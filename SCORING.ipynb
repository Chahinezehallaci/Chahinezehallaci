{
  "nbformat": 4,
  "nbformat_minor": 0,
  "metadata": {
    "colab": {
      "name": "SCORING.ipynb",
      "provenance": [],
      "collapsed_sections": [],
      "authorship_tag": "ABX9TyOX+hvuy4iK4sxZ2l967xWc",
      "include_colab_link": true
    },
    "kernelspec": {
      "name": "python3",
      "display_name": "Python 3"
    },
    "language_info": {
      "name": "python"
    }
  },
  "cells": [
    {
      "cell_type": "markdown",
      "metadata": {
        "id": "view-in-github",
        "colab_type": "text"
      },
      "source": [
        "<a href=\"https://colab.research.google.com/github/Chahinezehallaci/Chahinezehallaci/blob/main/SCORING.ipynb\" target=\"_parent\"><img src=\"https://colab.research.google.com/assets/colab-badge.svg\" alt=\"Open In Colab\"/></a>"
      ]
    },
    {
      "cell_type": "code",
      "execution_count": null,
      "metadata": {
        "id": "85dOPJ6HDisq"
      },
      "outputs": [],
      "source": [
        "# importation des librairies\n",
        "import pandas as pd\n",
        "import numpy as np\n",
        "import seaborn as sns"
      ]
    },
    {
      "cell_type": "code",
      "source": [
        "file_dicts = [\n",
        "  {\n",
        "    'sas7bdat_file': 'autorisations.sas7bdat',\n",
        "    'export_file': 'autorisations.csv',\n",
        "  }\n",
        "]\n",
        "sas7bdat_converter.batch_to_csv(file_dicts)"
      ],
      "metadata": {
        "id": "_YiPZBe8NyL0",
        "colab": {
          "base_uri": "https://localhost:8080/",
          "height": 200
        },
        "outputId": "d58f3f60-321d-4591-f2b6-99a0daad1b7a"
      },
      "execution_count": null,
      "outputs": [
        {
          "output_type": "error",
          "ename": "NameError",
          "evalue": "ignored",
          "traceback": [
            "\u001b[0;31m---------------------------------------------------------------------------\u001b[0m",
            "\u001b[0;31mNameError\u001b[0m                                 Traceback (most recent call last)",
            "\u001b[0;32m<ipython-input-2-b4d26130671c>\u001b[0m in \u001b[0;36m<module>\u001b[0;34m()\u001b[0m\n\u001b[1;32m      5\u001b[0m   }\n\u001b[1;32m      6\u001b[0m ]\n\u001b[0;32m----> 7\u001b[0;31m \u001b[0msas7bdat_converter\u001b[0m\u001b[0;34m.\u001b[0m\u001b[0mbatch_to_csv\u001b[0m\u001b[0;34m(\u001b[0m\u001b[0mfile_dicts\u001b[0m\u001b[0;34m)\u001b[0m\u001b[0;34m\u001b[0m\u001b[0;34m\u001b[0m\u001b[0m\n\u001b[0m",
            "\u001b[0;31mNameError\u001b[0m: name 'sas7bdat_converter' is not defined"
          ]
        }
      ]
    },
    {
      "cell_type": "code",
      "source": [
        "df = pd.read_csv('autorisations.csv')\n",
        "pd.set_option('display.max_columns', None)"
      ],
      "metadata": {
        "colab": {
          "base_uri": "https://localhost:8080/",
          "height": 363
        },
        "id": "1562zoO0KPiJ",
        "outputId": "982f7e0b-8697-4bfe-c68b-073a03dbac73"
      },
      "execution_count": null,
      "outputs": [
        {
          "output_type": "error",
          "ename": "FileNotFoundError",
          "evalue": "ignored",
          "traceback": [
            "\u001b[0;31m---------------------------------------------------------------------------\u001b[0m",
            "\u001b[0;31mFileNotFoundError\u001b[0m                         Traceback (most recent call last)",
            "\u001b[0;32m<ipython-input-5-48015fa728c6>\u001b[0m in \u001b[0;36m<module>\u001b[0;34m()\u001b[0m\n\u001b[0;32m----> 1\u001b[0;31m \u001b[0mdf\u001b[0m \u001b[0;34m=\u001b[0m \u001b[0mpd\u001b[0m\u001b[0;34m.\u001b[0m\u001b[0mread_csv\u001b[0m\u001b[0;34m(\u001b[0m\u001b[0;34m'autorisations.csv'\u001b[0m\u001b[0;34m)\u001b[0m\u001b[0;34m\u001b[0m\u001b[0;34m\u001b[0m\u001b[0m\n\u001b[0m\u001b[1;32m      2\u001b[0m \u001b[0mpd\u001b[0m\u001b[0;34m.\u001b[0m\u001b[0mset_option\u001b[0m\u001b[0;34m(\u001b[0m\u001b[0;34m'display.max_columns'\u001b[0m\u001b[0;34m,\u001b[0m \u001b[0;32mNone\u001b[0m\u001b[0;34m)\u001b[0m\u001b[0;34m\u001b[0m\u001b[0;34m\u001b[0m\u001b[0m\n",
            "\u001b[0;32m/usr/local/lib/python3.7/dist-packages/pandas/util/_decorators.py\u001b[0m in \u001b[0;36mwrapper\u001b[0;34m(*args, **kwargs)\u001b[0m\n\u001b[1;32m    309\u001b[0m                     \u001b[0mstacklevel\u001b[0m\u001b[0;34m=\u001b[0m\u001b[0mstacklevel\u001b[0m\u001b[0;34m,\u001b[0m\u001b[0;34m\u001b[0m\u001b[0;34m\u001b[0m\u001b[0m\n\u001b[1;32m    310\u001b[0m                 )\n\u001b[0;32m--> 311\u001b[0;31m             \u001b[0;32mreturn\u001b[0m \u001b[0mfunc\u001b[0m\u001b[0;34m(\u001b[0m\u001b[0;34m*\u001b[0m\u001b[0margs\u001b[0m\u001b[0;34m,\u001b[0m \u001b[0;34m**\u001b[0m\u001b[0mkwargs\u001b[0m\u001b[0;34m)\u001b[0m\u001b[0;34m\u001b[0m\u001b[0;34m\u001b[0m\u001b[0m\n\u001b[0m\u001b[1;32m    312\u001b[0m \u001b[0;34m\u001b[0m\u001b[0m\n\u001b[1;32m    313\u001b[0m         \u001b[0;32mreturn\u001b[0m \u001b[0mwrapper\u001b[0m\u001b[0;34m\u001b[0m\u001b[0;34m\u001b[0m\u001b[0m\n",
            "\u001b[0;32m/usr/local/lib/python3.7/dist-packages/pandas/io/parsers/readers.py\u001b[0m in \u001b[0;36mread_csv\u001b[0;34m(filepath_or_buffer, sep, delimiter, header, names, index_col, usecols, squeeze, prefix, mangle_dupe_cols, dtype, engine, converters, true_values, false_values, skipinitialspace, skiprows, skipfooter, nrows, na_values, keep_default_na, na_filter, verbose, skip_blank_lines, parse_dates, infer_datetime_format, keep_date_col, date_parser, dayfirst, cache_dates, iterator, chunksize, compression, thousands, decimal, lineterminator, quotechar, quoting, doublequote, escapechar, comment, encoding, encoding_errors, dialect, error_bad_lines, warn_bad_lines, on_bad_lines, delim_whitespace, low_memory, memory_map, float_precision, storage_options)\u001b[0m\n\u001b[1;32m    584\u001b[0m     \u001b[0mkwds\u001b[0m\u001b[0;34m.\u001b[0m\u001b[0mupdate\u001b[0m\u001b[0;34m(\u001b[0m\u001b[0mkwds_defaults\u001b[0m\u001b[0;34m)\u001b[0m\u001b[0;34m\u001b[0m\u001b[0;34m\u001b[0m\u001b[0m\n\u001b[1;32m    585\u001b[0m \u001b[0;34m\u001b[0m\u001b[0m\n\u001b[0;32m--> 586\u001b[0;31m     \u001b[0;32mreturn\u001b[0m \u001b[0m_read\u001b[0m\u001b[0;34m(\u001b[0m\u001b[0mfilepath_or_buffer\u001b[0m\u001b[0;34m,\u001b[0m \u001b[0mkwds\u001b[0m\u001b[0;34m)\u001b[0m\u001b[0;34m\u001b[0m\u001b[0;34m\u001b[0m\u001b[0m\n\u001b[0m\u001b[1;32m    587\u001b[0m \u001b[0;34m\u001b[0m\u001b[0m\n\u001b[1;32m    588\u001b[0m \u001b[0;34m\u001b[0m\u001b[0m\n",
            "\u001b[0;32m/usr/local/lib/python3.7/dist-packages/pandas/io/parsers/readers.py\u001b[0m in \u001b[0;36m_read\u001b[0;34m(filepath_or_buffer, kwds)\u001b[0m\n\u001b[1;32m    480\u001b[0m \u001b[0;34m\u001b[0m\u001b[0m\n\u001b[1;32m    481\u001b[0m     \u001b[0;31m# Create the parser.\u001b[0m\u001b[0;34m\u001b[0m\u001b[0;34m\u001b[0m\u001b[0;34m\u001b[0m\u001b[0m\n\u001b[0;32m--> 482\u001b[0;31m     \u001b[0mparser\u001b[0m \u001b[0;34m=\u001b[0m \u001b[0mTextFileReader\u001b[0m\u001b[0;34m(\u001b[0m\u001b[0mfilepath_or_buffer\u001b[0m\u001b[0;34m,\u001b[0m \u001b[0;34m**\u001b[0m\u001b[0mkwds\u001b[0m\u001b[0;34m)\u001b[0m\u001b[0;34m\u001b[0m\u001b[0;34m\u001b[0m\u001b[0m\n\u001b[0m\u001b[1;32m    483\u001b[0m \u001b[0;34m\u001b[0m\u001b[0m\n\u001b[1;32m    484\u001b[0m     \u001b[0;32mif\u001b[0m \u001b[0mchunksize\u001b[0m \u001b[0;32mor\u001b[0m \u001b[0miterator\u001b[0m\u001b[0;34m:\u001b[0m\u001b[0;34m\u001b[0m\u001b[0;34m\u001b[0m\u001b[0m\n",
            "\u001b[0;32m/usr/local/lib/python3.7/dist-packages/pandas/io/parsers/readers.py\u001b[0m in \u001b[0;36m__init__\u001b[0;34m(self, f, engine, **kwds)\u001b[0m\n\u001b[1;32m    809\u001b[0m             \u001b[0mself\u001b[0m\u001b[0;34m.\u001b[0m\u001b[0moptions\u001b[0m\u001b[0;34m[\u001b[0m\u001b[0;34m\"has_index_names\"\u001b[0m\u001b[0;34m]\u001b[0m \u001b[0;34m=\u001b[0m \u001b[0mkwds\u001b[0m\u001b[0;34m[\u001b[0m\u001b[0;34m\"has_index_names\"\u001b[0m\u001b[0;34m]\u001b[0m\u001b[0;34m\u001b[0m\u001b[0;34m\u001b[0m\u001b[0m\n\u001b[1;32m    810\u001b[0m \u001b[0;34m\u001b[0m\u001b[0m\n\u001b[0;32m--> 811\u001b[0;31m         \u001b[0mself\u001b[0m\u001b[0;34m.\u001b[0m\u001b[0m_engine\u001b[0m \u001b[0;34m=\u001b[0m \u001b[0mself\u001b[0m\u001b[0;34m.\u001b[0m\u001b[0m_make_engine\u001b[0m\u001b[0;34m(\u001b[0m\u001b[0mself\u001b[0m\u001b[0;34m.\u001b[0m\u001b[0mengine\u001b[0m\u001b[0;34m)\u001b[0m\u001b[0;34m\u001b[0m\u001b[0;34m\u001b[0m\u001b[0m\n\u001b[0m\u001b[1;32m    812\u001b[0m \u001b[0;34m\u001b[0m\u001b[0m\n\u001b[1;32m    813\u001b[0m     \u001b[0;32mdef\u001b[0m \u001b[0mclose\u001b[0m\u001b[0;34m(\u001b[0m\u001b[0mself\u001b[0m\u001b[0;34m)\u001b[0m\u001b[0;34m:\u001b[0m\u001b[0;34m\u001b[0m\u001b[0;34m\u001b[0m\u001b[0m\n",
            "\u001b[0;32m/usr/local/lib/python3.7/dist-packages/pandas/io/parsers/readers.py\u001b[0m in \u001b[0;36m_make_engine\u001b[0;34m(self, engine)\u001b[0m\n\u001b[1;32m   1038\u001b[0m             )\n\u001b[1;32m   1039\u001b[0m         \u001b[0;31m# error: Too many arguments for \"ParserBase\"\u001b[0m\u001b[0;34m\u001b[0m\u001b[0;34m\u001b[0m\u001b[0;34m\u001b[0m\u001b[0m\n\u001b[0;32m-> 1040\u001b[0;31m         \u001b[0;32mreturn\u001b[0m \u001b[0mmapping\u001b[0m\u001b[0;34m[\u001b[0m\u001b[0mengine\u001b[0m\u001b[0;34m]\u001b[0m\u001b[0;34m(\u001b[0m\u001b[0mself\u001b[0m\u001b[0;34m.\u001b[0m\u001b[0mf\u001b[0m\u001b[0;34m,\u001b[0m \u001b[0;34m**\u001b[0m\u001b[0mself\u001b[0m\u001b[0;34m.\u001b[0m\u001b[0moptions\u001b[0m\u001b[0;34m)\u001b[0m  \u001b[0;31m# type: ignore[call-arg]\u001b[0m\u001b[0;34m\u001b[0m\u001b[0;34m\u001b[0m\u001b[0m\n\u001b[0m\u001b[1;32m   1041\u001b[0m \u001b[0;34m\u001b[0m\u001b[0m\n\u001b[1;32m   1042\u001b[0m     \u001b[0;32mdef\u001b[0m \u001b[0m_failover_to_python\u001b[0m\u001b[0;34m(\u001b[0m\u001b[0mself\u001b[0m\u001b[0;34m)\u001b[0m\u001b[0;34m:\u001b[0m\u001b[0;34m\u001b[0m\u001b[0;34m\u001b[0m\u001b[0m\n",
            "\u001b[0;32m/usr/local/lib/python3.7/dist-packages/pandas/io/parsers/c_parser_wrapper.py\u001b[0m in \u001b[0;36m__init__\u001b[0;34m(self, src, **kwds)\u001b[0m\n\u001b[1;32m     49\u001b[0m \u001b[0;34m\u001b[0m\u001b[0m\n\u001b[1;32m     50\u001b[0m         \u001b[0;31m# open handles\u001b[0m\u001b[0;34m\u001b[0m\u001b[0;34m\u001b[0m\u001b[0;34m\u001b[0m\u001b[0m\n\u001b[0;32m---> 51\u001b[0;31m         \u001b[0mself\u001b[0m\u001b[0;34m.\u001b[0m\u001b[0m_open_handles\u001b[0m\u001b[0;34m(\u001b[0m\u001b[0msrc\u001b[0m\u001b[0;34m,\u001b[0m \u001b[0mkwds\u001b[0m\u001b[0;34m)\u001b[0m\u001b[0;34m\u001b[0m\u001b[0;34m\u001b[0m\u001b[0m\n\u001b[0m\u001b[1;32m     52\u001b[0m         \u001b[0;32massert\u001b[0m \u001b[0mself\u001b[0m\u001b[0;34m.\u001b[0m\u001b[0mhandles\u001b[0m \u001b[0;32mis\u001b[0m \u001b[0;32mnot\u001b[0m \u001b[0;32mNone\u001b[0m\u001b[0;34m\u001b[0m\u001b[0;34m\u001b[0m\u001b[0m\n\u001b[1;32m     53\u001b[0m \u001b[0;34m\u001b[0m\u001b[0m\n",
            "\u001b[0;32m/usr/local/lib/python3.7/dist-packages/pandas/io/parsers/base_parser.py\u001b[0m in \u001b[0;36m_open_handles\u001b[0;34m(self, src, kwds)\u001b[0m\n\u001b[1;32m    227\u001b[0m             \u001b[0mmemory_map\u001b[0m\u001b[0;34m=\u001b[0m\u001b[0mkwds\u001b[0m\u001b[0;34m.\u001b[0m\u001b[0mget\u001b[0m\u001b[0;34m(\u001b[0m\u001b[0;34m\"memory_map\"\u001b[0m\u001b[0;34m,\u001b[0m \u001b[0;32mFalse\u001b[0m\u001b[0;34m)\u001b[0m\u001b[0;34m,\u001b[0m\u001b[0;34m\u001b[0m\u001b[0;34m\u001b[0m\u001b[0m\n\u001b[1;32m    228\u001b[0m             \u001b[0mstorage_options\u001b[0m\u001b[0;34m=\u001b[0m\u001b[0mkwds\u001b[0m\u001b[0;34m.\u001b[0m\u001b[0mget\u001b[0m\u001b[0;34m(\u001b[0m\u001b[0;34m\"storage_options\"\u001b[0m\u001b[0;34m,\u001b[0m \u001b[0;32mNone\u001b[0m\u001b[0;34m)\u001b[0m\u001b[0;34m,\u001b[0m\u001b[0;34m\u001b[0m\u001b[0;34m\u001b[0m\u001b[0m\n\u001b[0;32m--> 229\u001b[0;31m             \u001b[0merrors\u001b[0m\u001b[0;34m=\u001b[0m\u001b[0mkwds\u001b[0m\u001b[0;34m.\u001b[0m\u001b[0mget\u001b[0m\u001b[0;34m(\u001b[0m\u001b[0;34m\"encoding_errors\"\u001b[0m\u001b[0;34m,\u001b[0m \u001b[0;34m\"strict\"\u001b[0m\u001b[0;34m)\u001b[0m\u001b[0;34m,\u001b[0m\u001b[0;34m\u001b[0m\u001b[0;34m\u001b[0m\u001b[0m\n\u001b[0m\u001b[1;32m    230\u001b[0m         )\n\u001b[1;32m    231\u001b[0m \u001b[0;34m\u001b[0m\u001b[0m\n",
            "\u001b[0;32m/usr/local/lib/python3.7/dist-packages/pandas/io/common.py\u001b[0m in \u001b[0;36mget_handle\u001b[0;34m(path_or_buf, mode, encoding, compression, memory_map, is_text, errors, storage_options)\u001b[0m\n\u001b[1;32m    705\u001b[0m                 \u001b[0mencoding\u001b[0m\u001b[0;34m=\u001b[0m\u001b[0mioargs\u001b[0m\u001b[0;34m.\u001b[0m\u001b[0mencoding\u001b[0m\u001b[0;34m,\u001b[0m\u001b[0;34m\u001b[0m\u001b[0;34m\u001b[0m\u001b[0m\n\u001b[1;32m    706\u001b[0m                 \u001b[0merrors\u001b[0m\u001b[0;34m=\u001b[0m\u001b[0merrors\u001b[0m\u001b[0;34m,\u001b[0m\u001b[0;34m\u001b[0m\u001b[0;34m\u001b[0m\u001b[0m\n\u001b[0;32m--> 707\u001b[0;31m                 \u001b[0mnewline\u001b[0m\u001b[0;34m=\u001b[0m\u001b[0;34m\"\"\u001b[0m\u001b[0;34m,\u001b[0m\u001b[0;34m\u001b[0m\u001b[0;34m\u001b[0m\u001b[0m\n\u001b[0m\u001b[1;32m    708\u001b[0m             )\n\u001b[1;32m    709\u001b[0m         \u001b[0;32melse\u001b[0m\u001b[0;34m:\u001b[0m\u001b[0;34m\u001b[0m\u001b[0;34m\u001b[0m\u001b[0m\n",
            "\u001b[0;31mFileNotFoundError\u001b[0m: [Errno 2] No such file or directory: 'autorisations.csv'"
          ]
        }
      ]
    },
    {
      "cell_type": "code",
      "source": [
        "df"
      ],
      "metadata": {
        "colab": {
          "base_uri": "https://localhost:8080/",
          "height": 661
        },
        "id": "Bm6L-RDfNqLF",
        "outputId": "64bfb3e8-d1de-499c-a91d-1b811c47daee"
      },
      "execution_count": null,
      "outputs": [
        {
          "output_type": "execute_result",
          "data": {
            "text/plain": [
              "            Carte  Pays        Date     Heure   dateheure  CodeRep   MCC  \\\n",
              "0             0.0   840  2003-12-02  17:47:52  2003-12-02       15  5812   \n",
              "1             1.0   158  2003-11-25  06:00:20  2003-11-25       15  5311   \n",
              "2             2.0   826  2003-11-12  14:10:57  2003-11-12       15  5211   \n",
              "3             3.0   840  2003-11-07  03:41:55  2003-11-07       14  7399   \n",
              "4             4.0   158  2003-11-23  05:07:03  2003-11-23       15  5311   \n",
              "...           ...   ...         ...       ...         ...      ...   ...   \n",
              "1151427  198041.0    56  2004-06-05  11:21:36  2004-06-05        0  5921   \n",
              "1151428  198041.0    56  2004-06-19  16:59:40  2004-06-19        0  5921   \n",
              "1151429  198042.0    56  2004-01-04  17:44:21  2004-01-04        0  5661   \n",
              "1151430  198043.0   442  2004-02-03  19:38:47  2004-02-03        0  5541   \n",
              "1151431  198043.0   442  2004-05-25  13:47:04  2004-05-25        0  5541   \n",
              "\n",
              "         Montant  fraude  FM_Velocity_Condition_3  FM_Velocity_Condition_6  \\\n",
              "0          69.25     0.0                      0.0                      0.0   \n",
              "1           1.00     0.0                      0.0                      0.0   \n",
              "2         516.95     0.0                      0.0                      0.0   \n",
              "3           0.01     0.0                      0.0                      0.0   \n",
              "4           1.00     0.0                      0.0                      0.0   \n",
              "...          ...     ...                      ...                      ...   \n",
              "1151427   163.77     0.0                      1.0                      1.0   \n",
              "1151428   136.18     0.0                      1.0                      1.0   \n",
              "1151429    34.38     0.0                      1.0                      1.0   \n",
              "1151430    80.20     0.0                      1.0                      1.0   \n",
              "1151431    56.85     0.0                      1.0                      1.0   \n",
              "\n",
              "         FM_Velocity_Condition_12  FM_Velocity_Condition_24  FM_Sum_3  \\\n",
              "0                             0.0                       0.0     69.25   \n",
              "1                             0.0                       0.0      1.00   \n",
              "2                             0.0                       0.0    516.95   \n",
              "3                             0.0                       0.0      0.01   \n",
              "4                             0.0                       0.0      1.00   \n",
              "...                           ...                       ...       ...   \n",
              "1151427                       1.0                       1.0    163.77   \n",
              "1151428                       1.0                       1.0    136.18   \n",
              "1151429                       1.0                       1.0     34.38   \n",
              "1151430                       1.0                       1.0     80.20   \n",
              "1151431                       1.0                       1.0     56.85   \n",
              "\n",
              "         FM_Sum_6  FM_Sum_12  FM_Sum_24  FM_Redondance_MCC_3  \\\n",
              "0           69.25      69.25      69.25                  1.0   \n",
              "1            1.00       1.00       1.00                  1.0   \n",
              "2          516.95     516.95     516.95                  1.0   \n",
              "3            0.01       0.01       0.01                  1.0   \n",
              "4            1.00       1.00       1.00                  1.0   \n",
              "...           ...        ...        ...                  ...   \n",
              "1151427    163.77     163.77     163.77                  1.0   \n",
              "1151428    136.18     136.18     136.18                  1.0   \n",
              "1151429     34.38      34.38      34.38                  1.0   \n",
              "1151430     80.20      80.20      80.20                  1.0   \n",
              "1151431     56.85      56.85      56.85                  1.0   \n",
              "\n",
              "         FM_Redondance_MCC_6  FM_Redondance_MCC_12  FM_Redondance_MCC_24  \\\n",
              "0                        1.0                   1.0                   1.0   \n",
              "1                        1.0                   1.0                   1.0   \n",
              "2                        1.0                   1.0                   1.0   \n",
              "3                        1.0                   1.0                   1.0   \n",
              "4                        1.0                   1.0                   1.0   \n",
              "...                      ...                   ...                   ...   \n",
              "1151427                  1.0                   1.0                   1.0   \n",
              "1151428                  1.0                   1.0                   1.0   \n",
              "1151429                  1.0                   1.0                   1.0   \n",
              "1151430                  1.0                   1.0                   1.0   \n",
              "1151431                  1.0                   1.0                   1.0   \n",
              "\n",
              "         FM_Difference_Pays_3  FM_Difference_Pays_6  FM_Difference_Pays_12  \\\n",
              "0                         1.0                   1.0                    1.0   \n",
              "1                         1.0                   1.0                    1.0   \n",
              "2                         1.0                   1.0                    1.0   \n",
              "3                         1.0                   1.0                    1.0   \n",
              "4                         1.0                   1.0                    1.0   \n",
              "...                       ...                   ...                    ...   \n",
              "1151427                   1.0                   1.0                    1.0   \n",
              "1151428                   1.0                   1.0                    1.0   \n",
              "1151429                   1.0                   1.0                    1.0   \n",
              "1151430                   1.0                   1.0                    1.0   \n",
              "1151431                   1.0                   1.0                    1.0   \n",
              "\n",
              "         FM_Difference_Pays_24  \n",
              "0                          1.0  \n",
              "1                          1.0  \n",
              "2                          1.0  \n",
              "3                          1.0  \n",
              "4                          1.0  \n",
              "...                        ...  \n",
              "1151427                    1.0  \n",
              "1151428                    1.0  \n",
              "1151429                    1.0  \n",
              "1151430                    1.0  \n",
              "1151431                    1.0  \n",
              "\n",
              "[1151432 rows x 25 columns]"
            ],
            "text/html": [
              "\n",
              "  <div id=\"df-939e48f3-d554-4a81-81cf-1d5b1cb0555f\">\n",
              "    <div class=\"colab-df-container\">\n",
              "      <div>\n",
              "<style scoped>\n",
              "    .dataframe tbody tr th:only-of-type {\n",
              "        vertical-align: middle;\n",
              "    }\n",
              "\n",
              "    .dataframe tbody tr th {\n",
              "        vertical-align: top;\n",
              "    }\n",
              "\n",
              "    .dataframe thead th {\n",
              "        text-align: right;\n",
              "    }\n",
              "</style>\n",
              "<table border=\"1\" class=\"dataframe\">\n",
              "  <thead>\n",
              "    <tr style=\"text-align: right;\">\n",
              "      <th></th>\n",
              "      <th>Carte</th>\n",
              "      <th>Pays</th>\n",
              "      <th>Date</th>\n",
              "      <th>Heure</th>\n",
              "      <th>dateheure</th>\n",
              "      <th>CodeRep</th>\n",
              "      <th>MCC</th>\n",
              "      <th>Montant</th>\n",
              "      <th>fraude</th>\n",
              "      <th>FM_Velocity_Condition_3</th>\n",
              "      <th>FM_Velocity_Condition_6</th>\n",
              "      <th>FM_Velocity_Condition_12</th>\n",
              "      <th>FM_Velocity_Condition_24</th>\n",
              "      <th>FM_Sum_3</th>\n",
              "      <th>FM_Sum_6</th>\n",
              "      <th>FM_Sum_12</th>\n",
              "      <th>FM_Sum_24</th>\n",
              "      <th>FM_Redondance_MCC_3</th>\n",
              "      <th>FM_Redondance_MCC_6</th>\n",
              "      <th>FM_Redondance_MCC_12</th>\n",
              "      <th>FM_Redondance_MCC_24</th>\n",
              "      <th>FM_Difference_Pays_3</th>\n",
              "      <th>FM_Difference_Pays_6</th>\n",
              "      <th>FM_Difference_Pays_12</th>\n",
              "      <th>FM_Difference_Pays_24</th>\n",
              "    </tr>\n",
              "  </thead>\n",
              "  <tbody>\n",
              "    <tr>\n",
              "      <th>0</th>\n",
              "      <td>0.0</td>\n",
              "      <td>840</td>\n",
              "      <td>2003-12-02</td>\n",
              "      <td>17:47:52</td>\n",
              "      <td>2003-12-02</td>\n",
              "      <td>15</td>\n",
              "      <td>5812</td>\n",
              "      <td>69.25</td>\n",
              "      <td>0.0</td>\n",
              "      <td>0.0</td>\n",
              "      <td>0.0</td>\n",
              "      <td>0.0</td>\n",
              "      <td>0.0</td>\n",
              "      <td>69.25</td>\n",
              "      <td>69.25</td>\n",
              "      <td>69.25</td>\n",
              "      <td>69.25</td>\n",
              "      <td>1.0</td>\n",
              "      <td>1.0</td>\n",
              "      <td>1.0</td>\n",
              "      <td>1.0</td>\n",
              "      <td>1.0</td>\n",
              "      <td>1.0</td>\n",
              "      <td>1.0</td>\n",
              "      <td>1.0</td>\n",
              "    </tr>\n",
              "    <tr>\n",
              "      <th>1</th>\n",
              "      <td>1.0</td>\n",
              "      <td>158</td>\n",
              "      <td>2003-11-25</td>\n",
              "      <td>06:00:20</td>\n",
              "      <td>2003-11-25</td>\n",
              "      <td>15</td>\n",
              "      <td>5311</td>\n",
              "      <td>1.00</td>\n",
              "      <td>0.0</td>\n",
              "      <td>0.0</td>\n",
              "      <td>0.0</td>\n",
              "      <td>0.0</td>\n",
              "      <td>0.0</td>\n",
              "      <td>1.00</td>\n",
              "      <td>1.00</td>\n",
              "      <td>1.00</td>\n",
              "      <td>1.00</td>\n",
              "      <td>1.0</td>\n",
              "      <td>1.0</td>\n",
              "      <td>1.0</td>\n",
              "      <td>1.0</td>\n",
              "      <td>1.0</td>\n",
              "      <td>1.0</td>\n",
              "      <td>1.0</td>\n",
              "      <td>1.0</td>\n",
              "    </tr>\n",
              "    <tr>\n",
              "      <th>2</th>\n",
              "      <td>2.0</td>\n",
              "      <td>826</td>\n",
              "      <td>2003-11-12</td>\n",
              "      <td>14:10:57</td>\n",
              "      <td>2003-11-12</td>\n",
              "      <td>15</td>\n",
              "      <td>5211</td>\n",
              "      <td>516.95</td>\n",
              "      <td>0.0</td>\n",
              "      <td>0.0</td>\n",
              "      <td>0.0</td>\n",
              "      <td>0.0</td>\n",
              "      <td>0.0</td>\n",
              "      <td>516.95</td>\n",
              "      <td>516.95</td>\n",
              "      <td>516.95</td>\n",
              "      <td>516.95</td>\n",
              "      <td>1.0</td>\n",
              "      <td>1.0</td>\n",
              "      <td>1.0</td>\n",
              "      <td>1.0</td>\n",
              "      <td>1.0</td>\n",
              "      <td>1.0</td>\n",
              "      <td>1.0</td>\n",
              "      <td>1.0</td>\n",
              "    </tr>\n",
              "    <tr>\n",
              "      <th>3</th>\n",
              "      <td>3.0</td>\n",
              "      <td>840</td>\n",
              "      <td>2003-11-07</td>\n",
              "      <td>03:41:55</td>\n",
              "      <td>2003-11-07</td>\n",
              "      <td>14</td>\n",
              "      <td>7399</td>\n",
              "      <td>0.01</td>\n",
              "      <td>0.0</td>\n",
              "      <td>0.0</td>\n",
              "      <td>0.0</td>\n",
              "      <td>0.0</td>\n",
              "      <td>0.0</td>\n",
              "      <td>0.01</td>\n",
              "      <td>0.01</td>\n",
              "      <td>0.01</td>\n",
              "      <td>0.01</td>\n",
              "      <td>1.0</td>\n",
              "      <td>1.0</td>\n",
              "      <td>1.0</td>\n",
              "      <td>1.0</td>\n",
              "      <td>1.0</td>\n",
              "      <td>1.0</td>\n",
              "      <td>1.0</td>\n",
              "      <td>1.0</td>\n",
              "    </tr>\n",
              "    <tr>\n",
              "      <th>4</th>\n",
              "      <td>4.0</td>\n",
              "      <td>158</td>\n",
              "      <td>2003-11-23</td>\n",
              "      <td>05:07:03</td>\n",
              "      <td>2003-11-23</td>\n",
              "      <td>15</td>\n",
              "      <td>5311</td>\n",
              "      <td>1.00</td>\n",
              "      <td>0.0</td>\n",
              "      <td>0.0</td>\n",
              "      <td>0.0</td>\n",
              "      <td>0.0</td>\n",
              "      <td>0.0</td>\n",
              "      <td>1.00</td>\n",
              "      <td>1.00</td>\n",
              "      <td>1.00</td>\n",
              "      <td>1.00</td>\n",
              "      <td>1.0</td>\n",
              "      <td>1.0</td>\n",
              "      <td>1.0</td>\n",
              "      <td>1.0</td>\n",
              "      <td>1.0</td>\n",
              "      <td>1.0</td>\n",
              "      <td>1.0</td>\n",
              "      <td>1.0</td>\n",
              "    </tr>\n",
              "    <tr>\n",
              "      <th>...</th>\n",
              "      <td>...</td>\n",
              "      <td>...</td>\n",
              "      <td>...</td>\n",
              "      <td>...</td>\n",
              "      <td>...</td>\n",
              "      <td>...</td>\n",
              "      <td>...</td>\n",
              "      <td>...</td>\n",
              "      <td>...</td>\n",
              "      <td>...</td>\n",
              "      <td>...</td>\n",
              "      <td>...</td>\n",
              "      <td>...</td>\n",
              "      <td>...</td>\n",
              "      <td>...</td>\n",
              "      <td>...</td>\n",
              "      <td>...</td>\n",
              "      <td>...</td>\n",
              "      <td>...</td>\n",
              "      <td>...</td>\n",
              "      <td>...</td>\n",
              "      <td>...</td>\n",
              "      <td>...</td>\n",
              "      <td>...</td>\n",
              "      <td>...</td>\n",
              "    </tr>\n",
              "    <tr>\n",
              "      <th>1151427</th>\n",
              "      <td>198041.0</td>\n",
              "      <td>56</td>\n",
              "      <td>2004-06-05</td>\n",
              "      <td>11:21:36</td>\n",
              "      <td>2004-06-05</td>\n",
              "      <td>0</td>\n",
              "      <td>5921</td>\n",
              "      <td>163.77</td>\n",
              "      <td>0.0</td>\n",
              "      <td>1.0</td>\n",
              "      <td>1.0</td>\n",
              "      <td>1.0</td>\n",
              "      <td>1.0</td>\n",
              "      <td>163.77</td>\n",
              "      <td>163.77</td>\n",
              "      <td>163.77</td>\n",
              "      <td>163.77</td>\n",
              "      <td>1.0</td>\n",
              "      <td>1.0</td>\n",
              "      <td>1.0</td>\n",
              "      <td>1.0</td>\n",
              "      <td>1.0</td>\n",
              "      <td>1.0</td>\n",
              "      <td>1.0</td>\n",
              "      <td>1.0</td>\n",
              "    </tr>\n",
              "    <tr>\n",
              "      <th>1151428</th>\n",
              "      <td>198041.0</td>\n",
              "      <td>56</td>\n",
              "      <td>2004-06-19</td>\n",
              "      <td>16:59:40</td>\n",
              "      <td>2004-06-19</td>\n",
              "      <td>0</td>\n",
              "      <td>5921</td>\n",
              "      <td>136.18</td>\n",
              "      <td>0.0</td>\n",
              "      <td>1.0</td>\n",
              "      <td>1.0</td>\n",
              "      <td>1.0</td>\n",
              "      <td>1.0</td>\n",
              "      <td>136.18</td>\n",
              "      <td>136.18</td>\n",
              "      <td>136.18</td>\n",
              "      <td>136.18</td>\n",
              "      <td>1.0</td>\n",
              "      <td>1.0</td>\n",
              "      <td>1.0</td>\n",
              "      <td>1.0</td>\n",
              "      <td>1.0</td>\n",
              "      <td>1.0</td>\n",
              "      <td>1.0</td>\n",
              "      <td>1.0</td>\n",
              "    </tr>\n",
              "    <tr>\n",
              "      <th>1151429</th>\n",
              "      <td>198042.0</td>\n",
              "      <td>56</td>\n",
              "      <td>2004-01-04</td>\n",
              "      <td>17:44:21</td>\n",
              "      <td>2004-01-04</td>\n",
              "      <td>0</td>\n",
              "      <td>5661</td>\n",
              "      <td>34.38</td>\n",
              "      <td>0.0</td>\n",
              "      <td>1.0</td>\n",
              "      <td>1.0</td>\n",
              "      <td>1.0</td>\n",
              "      <td>1.0</td>\n",
              "      <td>34.38</td>\n",
              "      <td>34.38</td>\n",
              "      <td>34.38</td>\n",
              "      <td>34.38</td>\n",
              "      <td>1.0</td>\n",
              "      <td>1.0</td>\n",
              "      <td>1.0</td>\n",
              "      <td>1.0</td>\n",
              "      <td>1.0</td>\n",
              "      <td>1.0</td>\n",
              "      <td>1.0</td>\n",
              "      <td>1.0</td>\n",
              "    </tr>\n",
              "    <tr>\n",
              "      <th>1151430</th>\n",
              "      <td>198043.0</td>\n",
              "      <td>442</td>\n",
              "      <td>2004-02-03</td>\n",
              "      <td>19:38:47</td>\n",
              "      <td>2004-02-03</td>\n",
              "      <td>0</td>\n",
              "      <td>5541</td>\n",
              "      <td>80.20</td>\n",
              "      <td>0.0</td>\n",
              "      <td>1.0</td>\n",
              "      <td>1.0</td>\n",
              "      <td>1.0</td>\n",
              "      <td>1.0</td>\n",
              "      <td>80.20</td>\n",
              "      <td>80.20</td>\n",
              "      <td>80.20</td>\n",
              "      <td>80.20</td>\n",
              "      <td>1.0</td>\n",
              "      <td>1.0</td>\n",
              "      <td>1.0</td>\n",
              "      <td>1.0</td>\n",
              "      <td>1.0</td>\n",
              "      <td>1.0</td>\n",
              "      <td>1.0</td>\n",
              "      <td>1.0</td>\n",
              "    </tr>\n",
              "    <tr>\n",
              "      <th>1151431</th>\n",
              "      <td>198043.0</td>\n",
              "      <td>442</td>\n",
              "      <td>2004-05-25</td>\n",
              "      <td>13:47:04</td>\n",
              "      <td>2004-05-25</td>\n",
              "      <td>0</td>\n",
              "      <td>5541</td>\n",
              "      <td>56.85</td>\n",
              "      <td>0.0</td>\n",
              "      <td>1.0</td>\n",
              "      <td>1.0</td>\n",
              "      <td>1.0</td>\n",
              "      <td>1.0</td>\n",
              "      <td>56.85</td>\n",
              "      <td>56.85</td>\n",
              "      <td>56.85</td>\n",
              "      <td>56.85</td>\n",
              "      <td>1.0</td>\n",
              "      <td>1.0</td>\n",
              "      <td>1.0</td>\n",
              "      <td>1.0</td>\n",
              "      <td>1.0</td>\n",
              "      <td>1.0</td>\n",
              "      <td>1.0</td>\n",
              "      <td>1.0</td>\n",
              "    </tr>\n",
              "  </tbody>\n",
              "</table>\n",
              "<p>1151432 rows × 25 columns</p>\n",
              "</div>\n",
              "      <button class=\"colab-df-convert\" onclick=\"convertToInteractive('df-939e48f3-d554-4a81-81cf-1d5b1cb0555f')\"\n",
              "              title=\"Convert this dataframe to an interactive table.\"\n",
              "              style=\"display:none;\">\n",
              "        \n",
              "  <svg xmlns=\"http://www.w3.org/2000/svg\" height=\"24px\"viewBox=\"0 0 24 24\"\n",
              "       width=\"24px\">\n",
              "    <path d=\"M0 0h24v24H0V0z\" fill=\"none\"/>\n",
              "    <path d=\"M18.56 5.44l.94 2.06.94-2.06 2.06-.94-2.06-.94-.94-2.06-.94 2.06-2.06.94zm-11 1L8.5 8.5l.94-2.06 2.06-.94-2.06-.94L8.5 2.5l-.94 2.06-2.06.94zm10 10l.94 2.06.94-2.06 2.06-.94-2.06-.94-.94-2.06-.94 2.06-2.06.94z\"/><path d=\"M17.41 7.96l-1.37-1.37c-.4-.4-.92-.59-1.43-.59-.52 0-1.04.2-1.43.59L10.3 9.45l-7.72 7.72c-.78.78-.78 2.05 0 2.83L4 21.41c.39.39.9.59 1.41.59.51 0 1.02-.2 1.41-.59l7.78-7.78 2.81-2.81c.8-.78.8-2.07 0-2.86zM5.41 20L4 18.59l7.72-7.72 1.47 1.35L5.41 20z\"/>\n",
              "  </svg>\n",
              "      </button>\n",
              "      \n",
              "  <style>\n",
              "    .colab-df-container {\n",
              "      display:flex;\n",
              "      flex-wrap:wrap;\n",
              "      gap: 12px;\n",
              "    }\n",
              "\n",
              "    .colab-df-convert {\n",
              "      background-color: #E8F0FE;\n",
              "      border: none;\n",
              "      border-radius: 50%;\n",
              "      cursor: pointer;\n",
              "      display: none;\n",
              "      fill: #1967D2;\n",
              "      height: 32px;\n",
              "      padding: 0 0 0 0;\n",
              "      width: 32px;\n",
              "    }\n",
              "\n",
              "    .colab-df-convert:hover {\n",
              "      background-color: #E2EBFA;\n",
              "      box-shadow: 0px 1px 2px rgba(60, 64, 67, 0.3), 0px 1px 3px 1px rgba(60, 64, 67, 0.15);\n",
              "      fill: #174EA6;\n",
              "    }\n",
              "\n",
              "    [theme=dark] .colab-df-convert {\n",
              "      background-color: #3B4455;\n",
              "      fill: #D2E3FC;\n",
              "    }\n",
              "\n",
              "    [theme=dark] .colab-df-convert:hover {\n",
              "      background-color: #434B5C;\n",
              "      box-shadow: 0px 1px 3px 1px rgba(0, 0, 0, 0.15);\n",
              "      filter: drop-shadow(0px 1px 2px rgba(0, 0, 0, 0.3));\n",
              "      fill: #FFFFFF;\n",
              "    }\n",
              "  </style>\n",
              "\n",
              "      <script>\n",
              "        const buttonEl =\n",
              "          document.querySelector('#df-939e48f3-d554-4a81-81cf-1d5b1cb0555f button.colab-df-convert');\n",
              "        buttonEl.style.display =\n",
              "          google.colab.kernel.accessAllowed ? 'block' : 'none';\n",
              "\n",
              "        async function convertToInteractive(key) {\n",
              "          const element = document.querySelector('#df-939e48f3-d554-4a81-81cf-1d5b1cb0555f');\n",
              "          const dataTable =\n",
              "            await google.colab.kernel.invokeFunction('convertToInteractive',\n",
              "                                                     [key], {});\n",
              "          if (!dataTable) return;\n",
              "\n",
              "          const docLinkHtml = 'Like what you see? Visit the ' +\n",
              "            '<a target=\"_blank\" href=https://colab.research.google.com/notebooks/data_table.ipynb>data table notebook</a>'\n",
              "            + ' to learn more about interactive tables.';\n",
              "          element.innerHTML = '';\n",
              "          dataTable['output_type'] = 'display_data';\n",
              "          await google.colab.output.renderOutput(dataTable, element);\n",
              "          const docLink = document.createElement('div');\n",
              "          docLink.innerHTML = docLinkHtml;\n",
              "          element.appendChild(docLink);\n",
              "        }\n",
              "      </script>\n",
              "    </div>\n",
              "  </div>\n",
              "  "
            ]
          },
          "metadata": {},
          "execution_count": 4
        }
      ]
    },
    {
      "cell_type": "code",
      "source": [
        "#Info sur les types \n",
        "info_types = pd.DataFrame(df.dtypes)\n",
        "print(info_types)"
      ],
      "metadata": {
        "colab": {
          "base_uri": "https://localhost:8080/"
        },
        "id": "EoUEWFGLOPYv",
        "outputId": "d896836d-44b1-49db-a7a1-754489d5f9b4"
      },
      "execution_count": null,
      "outputs": [
        {
          "output_type": "stream",
          "name": "stdout",
          "text": [
            "                                0\n",
            "Carte                     float64\n",
            "Pays                        int64\n",
            "Date                       object\n",
            "Heure                      object\n",
            "dateheure                  object\n",
            "CodeRep                     int64\n",
            "MCC                         int64\n",
            "Montant                   float64\n",
            "fraude                    float64\n",
            "FM_Velocity_Condition_3   float64\n",
            "FM_Velocity_Condition_6   float64\n",
            "FM_Velocity_Condition_12  float64\n",
            "FM_Velocity_Condition_24  float64\n",
            "FM_Sum_3                  float64\n",
            "FM_Sum_6                  float64\n",
            "FM_Sum_12                 float64\n",
            "FM_Sum_24                 float64\n",
            "FM_Redondance_MCC_3       float64\n",
            "FM_Redondance_MCC_6       float64\n",
            "FM_Redondance_MCC_12      float64\n",
            "FM_Redondance_MCC_24      float64\n",
            "FM_Difference_Pays_3      float64\n",
            "FM_Difference_Pays_6      float64\n",
            "FM_Difference_Pays_12     float64\n",
            "FM_Difference_Pays_24     float64\n"
          ]
        }
      ]
    },
    {
      "cell_type": "code",
      "source": [
        "#Info sur les variables numériques\n",
        "info_df_num = df.describe()\n",
        "print(info_df_num)"
      ],
      "metadata": {
        "colab": {
          "base_uri": "https://localhost:8080/"
        },
        "id": "5JSfGpBMOPj0",
        "outputId": "7d637894-3a8b-46b7-c1ce-53da9b98578b"
      },
      "execution_count": null,
      "outputs": [
        {
          "output_type": "stream",
          "name": "stdout",
          "text": [
            "              Carte          Pays       CodeRep           MCC       Montant  \\\n",
            "count  1.151432e+06  1.151432e+06  1.151432e+06  1.151432e+06  1.151432e+06   \n",
            "mean   1.002084e+05  5.443612e+02  1.207672e+00  5.746632e+03  1.419584e+02   \n",
            "std    5.624373e+04  2.967979e+02  8.150519e+00  1.165450e+03  6.782661e+02   \n",
            "min    0.000000e+00  8.000000e+00  0.000000e+00  0.000000e+00  0.000000e+00   \n",
            "25%    5.227900e+04  2.760000e+02  0.000000e+00  5.411000e+03  2.450000e+01   \n",
            "50%    1.038830e+05  7.240000e+02  0.000000e+00  5.691000e+03  4.834000e+01   \n",
            "75%    1.487172e+05  8.260000e+02  0.000000e+00  5.968000e+03  1.149000e+02   \n",
            "max    1.980430e+05  9.990000e+02  9.800000e+01  9.999000e+03  5.463822e+05   \n",
            "\n",
            "             fraude  FM_Velocity_Condition_3  FM_Velocity_Condition_6  \\\n",
            "count  1.151432e+06             1.151432e+06             1.151432e+06   \n",
            "mean   6.293033e-03             1.240684e+00             1.326942e+00   \n",
            "std    7.907867e-02             9.144480e-01             1.184625e+00   \n",
            "min    0.000000e+00             0.000000e+00             0.000000e+00   \n",
            "25%    0.000000e+00             1.000000e+00             1.000000e+00   \n",
            "50%    0.000000e+00             1.000000e+00             1.000000e+00   \n",
            "75%    0.000000e+00             1.000000e+00             1.000000e+00   \n",
            "max    1.000000e+00             4.600000e+01             8.100000e+01   \n",
            "\n",
            "       FM_Velocity_Condition_12  FM_Velocity_Condition_24      FM_Sum_3  \\\n",
            "count              1.151432e+06              1.151432e+06  1.151432e+06   \n",
            "mean               1.413936e+00              1.650886e+00  2.128498e+02   \n",
            "std                1.453264e+00              2.086694e+00  1.474471e+03   \n",
            "min                0.000000e+00              0.000000e+00  0.000000e+00   \n",
            "25%                1.000000e+00              1.000000e+00  2.925000e+01   \n",
            "50%                1.000000e+00              1.000000e+00  6.119000e+01   \n",
            "75%                2.000000e+00              2.000000e+00  1.510000e+02   \n",
            "max                1.100000e+02              1.290000e+02  5.463822e+05   \n",
            "\n",
            "           FM_Sum_6     FM_Sum_12     FM_Sum_24  FM_Redondance_MCC_3  \\\n",
            "count  1.151432e+06  1.151432e+06  1.151432e+06         1.151432e+06   \n",
            "mean   2.294630e+02  2.462101e+02  2.963664e+02         1.125788e+00   \n",
            "std    1.511735e+03  1.556258e+03  2.253864e+03         6.386302e-01   \n",
            "min    0.000000e+00  0.000000e+00  0.000000e+00         1.000000e+00   \n",
            "25%    3.000000e+01  3.102000e+01  3.425000e+01         1.000000e+00   \n",
            "50%    6.510000e+01  6.893000e+01  7.925000e+01         1.000000e+00   \n",
            "75%    1.621000e+02  1.732000e+02  2.016300e+02         1.000000e+00   \n",
            "max    5.463822e+05  5.463822e+05  5.465007e+05         3.900000e+01   \n",
            "\n",
            "       FM_Redondance_MCC_6  FM_Redondance_MCC_12  FM_Redondance_MCC_24  \\\n",
            "count         1.151432e+06          1.151432e+06          1.151432e+06   \n",
            "mean          1.152476e+00          1.185130e+00          1.263236e+00   \n",
            "std           7.534212e-01          9.880260e-01          1.517040e+00   \n",
            "min           1.000000e+00          1.000000e+00          1.000000e+00   \n",
            "25%           1.000000e+00          1.000000e+00          1.000000e+00   \n",
            "50%           1.000000e+00          1.000000e+00          1.000000e+00   \n",
            "75%           1.000000e+00          1.000000e+00          1.000000e+00   \n",
            "max           3.900000e+01          4.600000e+01          5.900000e+01   \n",
            "\n",
            "       FM_Difference_Pays_3  FM_Difference_Pays_6  FM_Difference_Pays_12  \\\n",
            "count          1.151432e+06          1.151432e+06           1.151432e+06   \n",
            "mean           1.056345e+00          1.071889e+00           1.088256e+00   \n",
            "std            2.780099e-01          3.351154e-01           3.902423e-01   \n",
            "min            1.000000e+00          1.000000e+00           1.000000e+00   \n",
            "25%            1.000000e+00          1.000000e+00           1.000000e+00   \n",
            "50%            1.000000e+00          1.000000e+00           1.000000e+00   \n",
            "75%            1.000000e+00          1.000000e+00           1.000000e+00   \n",
            "max            1.000000e+01          1.500000e+01           1.500000e+01   \n",
            "\n",
            "       FM_Difference_Pays_24  \n",
            "count           1.151432e+06  \n",
            "mean            1.127268e+00  \n",
            "std             5.179400e-01  \n",
            "min             1.000000e+00  \n",
            "25%             1.000000e+00  \n",
            "50%             1.000000e+00  \n",
            "75%             1.000000e+00  \n",
            "max             1.700000e+01  \n"
          ]
        }
      ]
    },
    {
      "cell_type": "code",
      "source": [
        "# Variables numériques :\n",
        "nb_nan = []\n",
        "nb_distincts =[]\n",
        "for v in info_df_num.columns.tolist():\n",
        "    nb_nan.append(df[v].isnull().sum())\n",
        "    nb_distincts.append(len(set(df[v])))\n",
        "    \n",
        "info_df_num_2 = pd.DataFrame()\n",
        "info_df_num_2 [\"variables\"] = info_df_num.columns.tolist()\n",
        "info_df_num_2[\"Nb value distinct\"] = nb_distincts\n",
        "info_df_num_2[\"Nb value missing\"] = nb_nan \n",
        "info_df_num_2[\"%Modalité_missing\"] = info_df_num_2[\"Nb value missing\"]/len(df)\n",
        "\n",
        "print(info_df_num_2)"
      ],
      "metadata": {
        "colab": {
          "base_uri": "https://localhost:8080/"
        },
        "id": "G9Wy-_ztOPmi",
        "outputId": "fc0cfbdc-342e-49eb-8df1-abfe7a40fd3f"
      },
      "execution_count": null,
      "outputs": [
        {
          "output_type": "stream",
          "name": "stdout",
          "text": [
            "                   variables  Nb value distinct  Nb value missing  \\\n",
            "0                      Carte             198044                 0   \n",
            "1                       Pays                167                 0   \n",
            "2                    CodeRep                 15                 0   \n",
            "3                        MCC                661                 0   \n",
            "4                    Montant              81202                 0   \n",
            "5                     fraude                  2                 0   \n",
            "6    FM_Velocity_Condition_3                 47                 0   \n",
            "7    FM_Velocity_Condition_6                 82                 0   \n",
            "8   FM_Velocity_Condition_12                111                 0   \n",
            "9   FM_Velocity_Condition_24                130                 0   \n",
            "10                  FM_Sum_3             109848                 0   \n",
            "11                  FM_Sum_6             115535                 0   \n",
            "12                 FM_Sum_12             121201                 0   \n",
            "13                 FM_Sum_24             134271                 0   \n",
            "14       FM_Redondance_MCC_3                 39                 0   \n",
            "15       FM_Redondance_MCC_6                 39                 0   \n",
            "16      FM_Redondance_MCC_12                 46                 0   \n",
            "17      FM_Redondance_MCC_24                 59                 0   \n",
            "18      FM_Difference_Pays_3                 10                 0   \n",
            "19      FM_Difference_Pays_6                 15                 0   \n",
            "20     FM_Difference_Pays_12                 15                 0   \n",
            "21     FM_Difference_Pays_24                 17                 0   \n",
            "\n",
            "    %Modalité_missing  \n",
            "0                 0.0  \n",
            "1                 0.0  \n",
            "2                 0.0  \n",
            "3                 0.0  \n",
            "4                 0.0  \n",
            "5                 0.0  \n",
            "6                 0.0  \n",
            "7                 0.0  \n",
            "8                 0.0  \n",
            "9                 0.0  \n",
            "10                0.0  \n",
            "11                0.0  \n",
            "12                0.0  \n",
            "13                0.0  \n",
            "14                0.0  \n",
            "15                0.0  \n",
            "16                0.0  \n",
            "17                0.0  \n",
            "18                0.0  \n",
            "19                0.0  \n",
            "20                0.0  \n",
            "21                0.0  \n"
          ]
        }
      ]
    },
    {
      "cell_type": "code",
      "source": [
        "#info sur les varibales catégorielles :\n",
        "list_var_cat = info_types[info_types[0]==\"object\"].index.tolist()\n",
        "\n",
        "info_df_cat = pd.DataFrame()\n",
        "nb_nan = []\n",
        "nb_distincts =[]\n",
        "for v in list_var_cat :\n",
        "    nb_nan.append(df[v].isnull().sum())\n",
        "    nb_distincts.append(len(set(df[v])))\n",
        "    \n",
        "info_df_cat[\"variables\"] = list_var_cat\n",
        "info_df_cat[\"Nb value distinct\"] = nb_distincts\n",
        "info_df_cat[\"Nb value missing\"] = nb_nan\n",
        "\n",
        "print(info_df_cat)"
      ],
      "metadata": {
        "colab": {
          "base_uri": "https://localhost:8080/"
        },
        "id": "yfdnZqB9OPpD",
        "outputId": "beba78f8-2960-40b9-b553-147d4da4e735"
      },
      "execution_count": null,
      "outputs": [
        {
          "output_type": "stream",
          "name": "stdout",
          "text": [
            "   variables  Nb value distinct  Nb value missing\n",
            "0       Date                243                 0\n",
            "1      Heure              85697                 0\n",
            "2  dateheure                243                 0\n"
          ]
        }
      ]
    },
    {
      "cell_type": "code",
      "source": [
        "# définir la variable cible\n",
        "sns.catplot(x=\"fraude\",kind=\"count\",data=df)"
      ],
      "metadata": {
        "colab": {
          "base_uri": "https://localhost:8080/",
          "height": 386
        },
        "id": "Cuh5ngkeOPr1",
        "outputId": "754ce060-bf07-4779-b6db-69e291e11026"
      },
      "execution_count": null,
      "outputs": [
        {
          "output_type": "execute_result",
          "data": {
            "text/plain": [
              "<seaborn.axisgrid.FacetGrid at 0x7f40affd18d0>"
            ]
          },
          "metadata": {},
          "execution_count": 8
        },
        {
          "output_type": "display_data",
          "data": {
            "text/plain": [
              "<Figure size 360x360 with 1 Axes>"
            ],
            "image/png": "[encoded data removed]"
          },
          "metadata": {
            "needs_background": "light"
          }
        }
      ]
    },
    {
      "cell_type": "code",
      "source": [
        "sns.pairplot(df)"
      ],
      "metadata": {
        "id": "d3yJKR98HkAQ"
      },
      "execution_count": null,
      "outputs": []
    },
    {
      "cell_type": "markdown",
      "source": [
        "## Analyse visuel du lien entre la variable cible et les données\n"
      ],
      "metadata": {
        "id": "MpPpxP1NQ0FT"
      }
    },
    {
      "cell_type": "code",
      "source": [
        "# Analyse pour les variables numériques \n",
        "for v in info_df_num.columns.tolist():\n",
        "    sns.displot(df, x=v, hue=\"fraude\",stat=\"density\",common_norm=False)"
      ],
      "metadata": {
        "colab": {
          "base_uri": "https://localhost:8080/",
          "height": 1000
        },
        "id": "rWcyKQXlOPug",
        "outputId": "0fd79b8d-a45c-4032-d732-69a7a551026e"
      },
      "execution_count": null,
      "outputs": [
        {
          "output_type": "stream",
          "name": "stderr",
          "text": [
            "/usr/local/lib/python3.7/dist-packages/seaborn/axisgrid.py:409: RuntimeWarning: More than 20 figures have been opened. Figures created through the pyplot interface (`matplotlib.pyplot.figure`) are retained until explicitly closed and may consume too much memory. (To control this warning, see the rcParam `figure.max_open_warning`).\n",
            "  fig = plt.figure(figsize=figsize)\n",
            "/usr/local/lib/python3.7/dist-packages/seaborn/axisgrid.py:409: RuntimeWarning: More than 20 figures have been opened. Figures created through the pyplot interface (`matplotlib.pyplot.figure`) are retained until explicitly closed and may consume too much memory. (To control this warning, see the rcParam `figure.max_open_warning`).\n",
            "  fig = plt.figure(figsize=figsize)\n"
          ]
        },
        {
          "output_type": "display_data",
          "data": {
            "text/plain": [
              "<Figure size 411.875x360 with 1 Axes>"
            ],
            "image/png": "[encoded data removed]"
          },
          "metadata": {
            "needs_background": "light"
          }
        },
        {
          "output_type": "display_data",
          "data": {
            "text/plain": [
              "<Figure size 411.875x360 with 1 Axes>"
            ],
            "image/png": "[encoded data removed]"
          },
          "metadata": {
            "needs_background": "light"
          }
        },
        {
          "output_type": "display_data",
          "data": {
            "text/plain": [
              "<Figure size 411.875x360 with 1 Axes>"
            ],
            "image/png": "[encoded data removed]"
          },
          "metadata": {
            "needs_background": "light"
          }
        },
        {
          "output_type": "display_data",
          "data": {
            "text/plain": [
              "<Figure size 411.875x360 with 1 Axes>"
            ],
            "image/png": "[encoded data removed]"
          },
          "metadata": {
            "needs_background": "light"
          }
        },
        {
          "output_type": "display_data",
          "data": {
            "text/plain": [
              "<Figure size 411.875x360 with 1 Axes>"
            ],
            "image/png": "[encoded data removed]"
          },
          "metadata": {
            "needs_background": "light"
          }
        },
        {
          "output_type": "display_data",
          "data": {
            "text/plain": [
              "<Figure size 411.875x360 with 1 Axes>"
            ],
            "image/png": "[encoded data removed]"
          },
          "metadata": {
            "needs_background": "light"
          }
        },
        {
          "output_type": "display_data",
          "data": {
            "text/plain": [
              "<Figure size 411.875x360 with 1 Axes>"
            ],
            "image/png": "[encoded data removed]"
          },
          "metadata": {
            "needs_background": "light"
          }
        },
        {
          "output_type": "display_data",
          "data": {
            "text/plain": [
              "<Figure size 411.875x360 with 1 Axes>"
            ],
            "image/png": "[encoded data removed]"
          },
          "metadata": {
            "needs_background": "light"
          }
        },
        {
          "output_type": "display_data",
          "data": {
            "text/plain": [
              "<Figure size 411.875x360 with 1 Axes>"
            ],
            "image/png": "[encoded data removed]"
          },
          "metadata": {
            "needs_background": "light"
          }
        },
        {
          "output_type": "display_data",
          "data": {
            "text/plain": [
              "<Figure size 411.875x360 with 1 Axes>"
            ],
            "image/png": "[encoded data removed]"
          },
          "metadata": {
            "needs_background": "light"
          }
        },
        {
          "output_type": "display_data",
          "data": {
            "text/plain": [
              "<Figure size 411.875x360 with 1 Axes>"
            ],
            "image/png": "[encoded data removed]"
          },
          "metadata": {
            "needs_background": "light"
          }
        },
        {
          "output_type": "display_data",
          "data": {
            "text/plain": [
              "<Figure size 411.875x360 with 1 Axes>"
            ],
            "image/png": "[encoded data removed]"
          },
          "metadata": {
            "needs_background": "light"
          }
        },
        {
          "output_type": "display_data",
          "data": {
            "text/plain": [
              "<Figure size 411.875x360 with 1 Axes>"
            ],
            "image/png": "[encoded data removed]"
          },
          "metadata": {
            "needs_background": "light"
          }
        },
        {
          "output_type": "display_data",
          "data": {
            "text/plain": [
              "<Figure size 411.875x360 with 1 Axes>"
            ],
            "image/png": "[encoded data removed]"
          },
          "metadata": {
            "needs_background": "light"
          }
        },
        {
          "output_type": "display_data",
          "data": {
            "text/plain": [
              "<Figure size 411.875x360 with 1 Axes>"
            ],
            "image/png": "[encoded data removed]"
          },
          "metadata": {
            "needs_background": "light"
          }
        },
        {
          "output_type": "display_data",
          "data": {
            "text/plain": [
              "<Figure size 411.875x360 with 1 Axes>"
            ],
            "image/png": "[encoded data removed]"
          },
          "metadata": {
            "needs_background": "light"
          }
        },
        {
          "output_type": "display_data",
          "data": {
            "text/plain": [
              "<Figure size 411.875x360 with 1 Axes>"
            ],
            "image/png": "[encoded data removed]"
          },
          "metadata": {
            "needs_background": "light"
          }
        },
        {
          "output_type": "display_data",
          "data": {
            "text/plain": [
              "<Figure size 411.875x360 with 1 Axes>"
            ],
            "image/png": "[encoded data removed]"
          },
          "metadata": {
            "needs_background": "light"
          }
        },
        {
          "output_type": "display_data",
          "data": {
            "text/plain": [
              "<Figure size 411.875x360 with 1 Axes>"
            ],
            "image/png": "[encoded data removed]"
          },
          "metadata": {
            "needs_background": "light"
          }
        },
        {
          "output_type": "display_data",
          "data": {
            "text/plain": [
              "<Figure size 411.875x360 with 1 Axes>"
            ],
            "image/png": "[encoded data removed]"
          },
          "metadata": {
            "needs_background": "light"
          }
        },
        {
          "output_type": "display_data",
          "data": {
            "text/plain": [
              "<Figure size 411.875x360 with 1 Axes>"
            ],
            "image/png": "[encoded data removed]"
          },
          "metadata": {
            "needs_background": "light"
          }
        },
        {
          "output_type": "display_data",
          "data": {
            "text/plain": [
              "<Figure size 411.875x360 with 1 Axes>"
            ],
            "image/png": "[encoded data removed]"
          },
          "metadata": {
            "needs_background": "light"
          }
        }
      ]
    },
    {
      "cell_type": "code",
      "source": [
        "sns.catplot(x=\"fraude\",kind=\"count\",data=df)"
      ],
      "metadata": {
        "colab": {
          "base_uri": "https://localhost:8080/",
          "height": 386
        },
        "id": "U64xNlg7OPxH",
        "outputId": "61367c44-95f1-440d-8920-25a2fade4161"
      },
      "execution_count": null,
      "outputs": [
        {
          "output_type": "execute_result",
          "data": {
            "text/plain": [
              "<seaborn.axisgrid.FacetGrid at 0x7f05ee248c50>"
            ]
          },
          "metadata": {},
          "execution_count": 4
        },
        {
          "output_type": "display_data",
          "data": {
            "text/plain": [
              "<Figure size 360x360 with 1 Axes>"
            ],
            "image/png": "[encoded data removed]"
          },
          "metadata": {
            "needs_background": "light"
          }
        }
      ]
    },
    {
      "cell_type": "markdown",
      "source": [
        "## Analyse statistiques du lien entre les variables et la variable cible"
      ],
      "metadata": {
        "id": "pVO62WcwWtRy"
      }
    },
    {
      "cell_type": "markdown",
      "source": [
        "Pour les variables catégorielles, utilisation d'un test du Chi2.\n",
        "\n",
        "Hypothèse H0 : Les variables sont indépendantes\n",
        "\n",
        "Hypothèse H1 : Les variables ne sont pas indépendantes\n",
        "\n",
        "Si la valeur de la pvalue est inférieure à 5% on rejette l'hypothèse H0 avec un risque de 5%. On considère que les deux ne variables ne sont pas indépendantes"
      ],
      "metadata": {
        "id": "Vq6EmLOHW1Rl"
      }
    },
    {
      "cell_type": "code",
      "source": [
        "# Variables catégortielles test du Chi 2:\n",
        "import scipy.stats as st\n",
        "for v in list_var_cat:\n",
        "    cont = df[[v, \"fraude\"]].pivot_table(index=v, columns=\"fraude\", aggfunc=len).fillna(0).copy().astype(int) # Création de la table de contingence\n",
        "    st_chi2, st_p, st_dof, st_exp = st.chi2_contingency(cont)\n",
        "    print(v + \": p-value test chi 2 = \" + str(st_p))"
      ],
      "metadata": {
        "colab": {
          "base_uri": "https://localhost:8080/"
        },
        "id": "pDuT79UHW0Zl",
        "outputId": "a33bb31e-d20c-4329-c763-f55bb3141b74"
      },
      "execution_count": null,
      "outputs": [
        {
          "output_type": "stream",
          "name": "stdout",
          "text": [
            "Date: p-value test chi 2 = 5.955398030737846e-289\n",
            "Heure: p-value test chi 2 = 0.0\n",
            "dateheure: p-value test chi 2 = 5.955398030737846e-289\n"
          ]
        }
      ]
    },
    {
      "cell_type": "markdown",
      "source": [
        "Toutes les variables categorielles ont un impacte sur la variable cible en revanche pas toutes les variables quantitaves (comme vu précédemment) ont un impacte sur la variable categorielle, il y a certaines variables que l'on peut éliminer."
      ],
      "metadata": {
        "id": "z71XH4m2X6aZ"
      }
    },
    {
      "cell_type": "markdown",
      "source": [
        "Pour les variables quantitatives, utilisation d'un test du Student. (Plus précisément Welch’s t-test parce qu'on ne considère pas que les 2 populations ont la même variance)\n",
        "\n",
        "Hypothèse H0 : La distribution de la variable quantitative sachant target = 1 est la même que la distribution de la variable quantitative sachant target = 0\n",
        "\n",
        "Hypothèse H1 : Les distributions sont différentes\n",
        "\n",
        "Si la valeur de la pvalue est inférieure à 5% on rejette l'hypothèse H0 avec un risque de 5%. On considère que les distributions ne sont pas identiques"
      ],
      "metadata": {
        "id": "MVbBjm1hYIR7"
      }
    },
    {
      "cell_type": "code",
      "source": [
        "for v in info_df_num.columns.tolist():\n",
        "    if v!= \"fraude\":\n",
        "        a=list(df[df[\"fraude\"]==0][v])\n",
        "        b=list(df[df[\"fraude\"]==1][v])\n",
        "        st_test, st_p = st.ttest_ind(a, b, axis=0, equal_var=False, nan_policy='omit')\n",
        "        print(v + \": p-value test Student = \" + str(st_p))"
      ],
      "metadata": {
        "colab": {
          "base_uri": "https://localhost:8080/"
        },
        "id": "9iL_C81KOP2f",
        "outputId": "3f72cca6-7a1a-4bf5-8598-44e5c85ced52"
      },
      "execution_count": null,
      "outputs": [
        {
          "output_type": "stream",
          "name": "stdout",
          "text": [
            "Carte: p-value test Student = 1.7065584984159052e-07\n",
            "Pays: p-value test Student = 0.05497022911300585\n",
            "CodeRep: p-value test Student = 3.4707067957134085e-25\n",
            "MCC: p-value test Student = 0.007819039688163311\n",
            "Montant: p-value test Student = 3.595376380225509e-64\n",
            "FM_Velocity_Condition_3: p-value test Student = 5.2861866356582387e-222\n",
            "FM_Velocity_Condition_6: p-value test Student = 1.4035662604736293e-228\n",
            "FM_Velocity_Condition_12: p-value test Student = 3.392446901171698e-243\n",
            "FM_Velocity_Condition_24: p-value test Student = 1.1256856168937706e-275\n",
            "FM_Sum_3: p-value test Student = 4.781117165487752e-153\n",
            "FM_Sum_6: p-value test Student = 2.6936691614308724e-184\n",
            "FM_Sum_12: p-value test Student = 1.5373343471391424e-199\n",
            "FM_Sum_24: p-value test Student = 4.6836853934126814e-206\n",
            "FM_Redondance_MCC_3: p-value test Student = 1.1940112135314533e-165\n",
            "FM_Redondance_MCC_6: p-value test Student = 1.2386403473260744e-164\n",
            "FM_Redondance_MCC_12: p-value test Student = 2.0188451600594948e-166\n",
            "FM_Redondance_MCC_24: p-value test Student = 4.534856217210018e-188\n",
            "FM_Difference_Pays_3: p-value test Student = 5.2647440911409897e-76\n",
            "FM_Difference_Pays_6: p-value test Student = 1.052044597408414e-87\n",
            "FM_Difference_Pays_12: p-value test Student = 9.824946748219075e-98\n",
            "FM_Difference_Pays_24: p-value test Student = 9.128697116822693e-103\n"
          ]
        }
      ]
    },
    {
      "cell_type": "markdown",
      "source": [
        "## Prépation des données pour la modélisation \n",
        "\n"
      ],
      "metadata": {
        "id": "Ph0mz79JZz2P"
      }
    },
    {
      "cell_type": "markdown",
      "source": [
        "### Séparation du jeu de données train/ test\n"
      ],
      "metadata": {
        "id": "ooHx5srYZ0Qq"
      }
    },
    {
      "cell_type": "code",
      "source": [
        "import matplotlib.pyplot as plt    \n",
        "plt.hist(df[\"fraude\"])\n",
        "print(\"% Variable cible : \" + str(df[\"fraude\"].mean()))"
      ],
      "metadata": {
        "colab": {
          "base_uri": "https://localhost:8080/",
          "height": 293
        },
        "id": "tnLsgRzvR7d8",
        "outputId": "3653cfbe-d8d0-46ba-c845-f048f3e5068b"
      },
      "execution_count": null,
      "outputs": [
        {
          "output_type": "stream",
          "name": "stdout",
          "text": [
            "% Variable cible : 0.006293033370620237\n"
          ]
        },
        {
          "output_type": "display_data",
          "data": {
            "text/plain": [
              "<Figure size 432x288 with 1 Axes>"
            ],
            "image/png": "[encoded data removed]"
          },
          "metadata": {
            "needs_background": "light"
          }
        }
      ]
    },
    {
      "cell_type": "markdown",
      "source": [
        "La variable cible est désiquilibrée : 0.629 % de fraude vs 99.361 % de remboursement\n",
        "Nous devons respecter cette répartition dans le jeu d'apprentissage et de test.\n",
        "\n",
        "--> utilisation de la notion d'échantillon stratifié : pour avoir la même répartion dans les 2 jeux de données"
      ],
      "metadata": {
        "id": "3NXUXnUjazMB"
      }
    },
    {
      "cell_type": "code",
      "source": [
        "#Création d'un jeu de données d'apprentissage, de validation et de test\n",
        "from sklearn.model_selection import train_test_split\n",
        "\n",
        "X_train, X_test, y_train, y_test = train_test_split(df, df[\"fraude\"],\n",
        "                                                    test_size=0.3, stratify=df[\"fraude\"])    \n"
      ],
      "metadata": {
        "colab": {
          "base_uri": "https://localhost:8080/",
          "height": 235
        },
        "id": "-75U3mtAR7gn",
        "outputId": "c21d5756-39ac-4133-fb5a-4b87780986e3"
      },
      "execution_count": null,
      "outputs": [
        {
          "output_type": "error",
          "ename": "NameError",
          "evalue": "ignored",
          "traceback": [
            "\u001b[0;31m---------------------------------------------------------------------------\u001b[0m",
            "\u001b[0;31mNameError\u001b[0m                                 Traceback (most recent call last)",
            "\u001b[0;32m<ipython-input-4-082e686f658c>\u001b[0m in \u001b[0;36m<module>\u001b[0;34m()\u001b[0m\n\u001b[1;32m      2\u001b[0m \u001b[0;32mfrom\u001b[0m \u001b[0msklearn\u001b[0m\u001b[0;34m.\u001b[0m\u001b[0mmodel_selection\u001b[0m \u001b[0;32mimport\u001b[0m \u001b[0mtrain_test_split\u001b[0m\u001b[0;34m\u001b[0m\u001b[0;34m\u001b[0m\u001b[0m\n\u001b[1;32m      3\u001b[0m \u001b[0;34m\u001b[0m\u001b[0m\n\u001b[0;32m----> 4\u001b[0;31m X_train, X_test, y_train, y_test = train_test_split(df, df[\"fraude\"],\n\u001b[0m\u001b[1;32m      5\u001b[0m                                                     test_size=0.3, stratify=df[\"fraude\"])    \n",
            "\u001b[0;31mNameError\u001b[0m: name 'df' is not defined"
          ]
        }
      ]
    },
    {
      "cell_type": "code",
      "source": [
        "#Taux de variable cible\n",
        "tmp= pd.DataFrame(X_train.groupby(by=[\"CodeRep\"]).mean()[\"fraude\"])"
      ],
      "metadata": {
        "colab": {
          "base_uri": "https://localhost:8080/",
          "height": 183
        },
        "id": "T5qfFiKFR7mj",
        "outputId": "546fb05c-1a66-4bf0-c5ca-322ddffa694e"
      },
      "execution_count": null,
      "outputs": [
        {
          "output_type": "error",
          "ename": "NameError",
          "evalue": "ignored",
          "traceback": [
            "\u001b[0;31m---------------------------------------------------------------------------\u001b[0m",
            "\u001b[0;31mNameError\u001b[0m                                 Traceback (most recent call last)",
            "\u001b[0;32m<ipython-input-3-c0fe22e5a54d>\u001b[0m in \u001b[0;36m<module>\u001b[0;34m()\u001b[0m\n\u001b[1;32m      1\u001b[0m \u001b[0;31m#Taux de variable cible\u001b[0m\u001b[0;34m\u001b[0m\u001b[0;34m\u001b[0m\u001b[0;34m\u001b[0m\u001b[0m\n\u001b[0;32m----> 2\u001b[0;31m \u001b[0mtmp\u001b[0m\u001b[0;34m=\u001b[0m \u001b[0mpd\u001b[0m\u001b[0;34m.\u001b[0m\u001b[0mDataFrame\u001b[0m\u001b[0;34m(\u001b[0m\u001b[0mX_train\u001b[0m\u001b[0;34m.\u001b[0m\u001b[0mgroupby\u001b[0m\u001b[0;34m(\u001b[0m\u001b[0mby\u001b[0m\u001b[0;34m=\u001b[0m\u001b[0;34m[\u001b[0m\u001b[0;34m\"CodeRep\"\u001b[0m\u001b[0;34m]\u001b[0m\u001b[0;34m)\u001b[0m\u001b[0;34m.\u001b[0m\u001b[0mmean\u001b[0m\u001b[0;34m(\u001b[0m\u001b[0;34m)\u001b[0m\u001b[0;34m[\u001b[0m\u001b[0;34m\"fraude\"\u001b[0m\u001b[0;34m]\u001b[0m\u001b[0;34m)\u001b[0m\u001b[0;34m\u001b[0m\u001b[0;34m\u001b[0m\u001b[0m\n\u001b[0m",
            "\u001b[0;31mNameError\u001b[0m: name 'X_train' is not defined"
          ]
        }
      ]
    },
    {
      "cell_type": "code",
      "source": [
        ""
      ],
      "metadata": {
        "id": "zm1I7TUxR7pz"
      },
      "execution_count": null,
      "outputs": []
    },
    {
      "cell_type": "code",
      "source": [
        ""
      ],
      "metadata": {
        "id": "VyOdeLg9OP5M"
      },
      "execution_count": null,
      "outputs": []
    },
    {
      "cell_type": "code",
      "source": [
        ""
      ],
      "metadata": {
        "id": "PlcVlHhHOP7p"
      },
      "execution_count": null,
      "outputs": []
    },
    {
      "cell_type": "code",
      "source": [
        ""
      ],
      "metadata": {
        "id": "QiCFN2hzOP-g"
      },
      "execution_count": null,
      "outputs": []
    },
    {
      "cell_type": "code",
      "source": [
        ""
      ],
      "metadata": {
        "id": "SGQyYlrJOQA8"
      },
      "execution_count": null,
      "outputs": []
    },
    {
      "cell_type": "code",
      "source": [
        ""
      ],
      "metadata": {
        "id": "9W7L91AAOQDt"
      },
      "execution_count": null,
      "outputs": []
    },
    {
      "cell_type": "code",
      "source": [
        ""
      ],
      "metadata": {
        "id": "VgaYIx22OQGf"
      },
      "execution_count": null,
      "outputs": []
    }
  ]
}